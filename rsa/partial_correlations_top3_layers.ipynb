{
 "cells": [
  {
   "cell_type": "markdown",
   "metadata": {},
   "source": [
    "# Partial Correlations\n",
    "\n",
    "This notebook contains code to reproduce the partial correlation analysis."
   ]
  },
  {
   "cell_type": "code",
   "execution_count": null,
   "metadata": {},
   "outputs": [],
   "source": [
    "import matplotlib.pyplot as plt\n",
    "import pandas as pd\n",
    "import numpy as np\n",
    "from src.paths import ROOT\n",
    "from scipy.stats import spearmanr\n",
    "from src.utils import *\n",
    "from src.fmri_rsa_utils import *\n",
    "# from src.dim_red_utils import *\n",
    "import pickle\n",
    "from sklearn.linear_model import LinearRegression\n",
    "import matplotlib.pyplot as plt\n",
    "from matplotlib.lines import Line2D"
   ]
  },
  {
   "cell_type": "code",
   "execution_count": 2,
   "metadata": {},
   "outputs": [],
   "source": [
    "#Creating RDMs for Exp features\n",
    "\n",
    "# experiential features\n",
    "exp_ftrs = pd.read_csv(ROOT / 'data/exp_features.csv')\n",
    "\n",
    "# organising exp arrays into a dict\n",
    "exp_dict = {exp_ftrs.iloc[i,0]: np.array(exp_ftrs.iloc[i,1:].tolist()) for i in range(len(exp_ftrs))}\n",
    "\n",
    "# distance matrices (1-cosine_similarity)\n",
    "s2_exp = pd.read_csv(ROOT / 'data/Study2_model_RSMs/Exp48_SOE320_sim_mat.csv')\n",
    "words_s2 = s2_exp.Word.tolist()\n",
    "\n",
    "# organising words from the 2 studies in separate matrices\n",
    "\n",
    "s2_exp_mat = np.stack([exp_dict[word] for word in words_s2])\n",
    "s2_exp_mat.shape\n",
    "\n",
    "# obtaining RDMs\n",
    "exp_rdm2 = get_distance_vec(s2_exp_mat)"
   ]
  },
  {
   "cell_type": "code",
   "execution_count": 3,
   "metadata": {},
   "outputs": [],
   "source": [
    "# importing embeddings\n",
    "brain2 = pd.read_csv(ROOT / 'results/rsa/brain_2_contextualised.csv')\n",
    "simcse_cont = pickle.load(open(ROOT / 'results/simcse/simcse_layers_context.pkl', 'rb'))\n",
    "mcse_cont = pickle.load(open(ROOT / 'results/mcse/mcse_layers_context.pkl', 'rb'))\n",
    "bert_cont = pickle.load(open(ROOT / 'results/bert/bert_layers_context.pkl', 'rb'))\n",
    "vbert_cont = pickle.load(open(ROOT / 'results/visualbert/visualbert_layers_context.pkl', 'rb'))\n",
    "clap_cont = pickle.load(open(ROOT / 'results/clap/clap_layers_context.pkl', 'rb'))"
   ]
  },
  {
   "cell_type": "code",
   "execution_count": 4,
   "metadata": {},
   "outputs": [],
   "source": [
    "# importing best layers\n",
    "best_layers = open_json(ROOT / 'results/rsa/best_layers.json')\n",
    "\n",
    "# getting rdms\n",
    "simcse_avg = average_representations_across_prompts(simcse_cont)\n",
    "mcse_avg = average_representations_across_prompts(mcse_cont)\n",
    "clap_avg = average_representations_across_prompts(clap_cont)\n",
    "bert_avg = average_representations_across_prompts(bert_cont)\n",
    "vbert_avg = average_representations_across_prompts(vbert_cont)\n",
    "\n",
    "simcse_rdm = get_distance_vec(np.stack([simcse_avg[word][np.array(best_layers['simcse']['brain']), :].mean(axis=0) for word in words_s2]))\n",
    "mcse_rdm = get_distance_vec(np.stack([mcse_avg[word][np.array(best_layers['mcse']['brain']), :].mean(axis=0) for word in words_s2]))\n",
    "clap_rdm = get_distance_vec(np.stack([clap_avg[word][np.array(best_layers['clap']['brain']), :].mean(axis=0) for word in words_s2]))\n",
    "bert_rdm = get_distance_vec(np.stack([bert_avg[word][np.array(best_layers['bert']['brain']), :].mean(axis=0) for word in words_s2]))\n",
    "vbert_rdm = get_distance_vec(np.stack([vbert_avg[word][np.array(best_layers['visualbert']['brain']), :].mean(axis=0) for word in words_s2]))\n",
    "\n",
    "# loading brain RDM\n",
    "brain_data_2 = get_fmri_rdm_study2_aggregated('semantic')"
   ]
  },
  {
   "cell_type": "code",
   "execution_count": 5,
   "metadata": {},
   "outputs": [],
   "source": [
    "def regress_model(model_to_remove, target_model, brain_data):\n",
    "\n",
    "    lm = LinearRegression().fit(model_to_remove.reshape(-1, 1), target_model)\n",
    "    residuals = target_model - lm.predict(model_to_remove.reshape(-1, 1))\n",
    "    rho, pval = spearmanr(residuals, brain_data)\n",
    "    return rho, pval\n",
    "\n"
   ]
  },
  {
   "cell_type": "code",
   "execution_count": 6,
   "metadata": {},
   "outputs": [
    {
     "name": "stdout",
     "output_type": "stream",
     "text": [
      "Independent contribution of MCSE to fMRI prediction without Exp48: rho=0.064, p=0.0\n",
      "Independent contribution of SimCSE to fMRI prediction without Exp48: rho=0.096, p=0.0\n",
      "Independent contribution of CLAP to fMRI prediction without Exp48: rho=-0.005, p=0.231\n",
      "Independent contribution of BERT to fMRI prediction without Exp48: rho=0.104, p=0.0\n",
      "Independent contribution of VisualBERT to fMRI prediction without Exp48: rho=0.061, p=0.0\n"
     ]
    }
   ],
   "source": [
    "models_wo_exp48 = {}\n",
    "# Regressing exp48 out of mcse\n",
    "\n",
    "rho, pval = regress_model(model_to_remove=exp_rdm2, target_model=mcse_rdm, brain_data=brain_data_2)\n",
    "print(f\"Independent contribution of MCSE to fMRI prediction without Exp48: rho={round(rho, 3)}, p={round(pval,3)}\")\n",
    "models_wo_exp48['mcse'] = rho\n",
    "\n",
    "# Regressing exp48 out of simcse\n",
    "rho, pval = regress_model(model_to_remove=exp_rdm2, target_model=simcse_rdm, brain_data=brain_data_2)\n",
    "print(f\"Independent contribution of SimCSE to fMRI prediction without Exp48: rho={round(rho, 3)}, p={round(pval,3)}\")\n",
    "models_wo_exp48['simcse'] = rho\n",
    "\n",
    "# Regressing exp48 out of clap\n",
    "rho, pval = regress_model(model_to_remove=exp_rdm2, target_model=clap_rdm, brain_data=brain_data_2)\n",
    "print(f\"Independent contribution of CLAP to fMRI prediction without Exp48: rho={round(rho, 3)}, p={round(pval,3)}\")\n",
    "models_wo_exp48['clap'] = rho\n",
    "\n",
    "# Regressing exp48 out of bert\n",
    "rho, pval = regress_model(model_to_remove=exp_rdm2, target_model=bert_rdm, brain_data=brain_data_2)\n",
    "print(f\"Independent contribution of BERT to fMRI prediction without Exp48: rho={round(rho, 3)}, p={round(pval,3)}\")\n",
    "models_wo_exp48['bert'] = rho\n",
    "\n",
    "# Regressing exp48 out of visualbert\n",
    "rho, pval = regress_model(model_to_remove=exp_rdm2, target_model=vbert_rdm, brain_data=brain_data_2)\n",
    "print(f\"Independent contribution of VisualBERT to fMRI prediction without Exp48: rho={round(rho, 3)}, p={round(pval,3)}\")\n",
    "models_wo_exp48['visualbert'] = rho"
   ]
  },
  {
   "cell_type": "code",
   "execution_count": 7,
   "metadata": {},
   "outputs": [
    {
     "name": "stdout",
     "output_type": "stream",
     "text": [
      "Independent contribution of Exp48 to fMRI prediction without MCSE: rho=0.214, p=0.0\n",
      "Independent contribution of Exp48 to fMRI prediction without SimCSE: rho=0.19, p=0.0\n",
      "Independent contribution of Exp48 to fMRI prediction without CLAP: rho=0.273, p=0.0\n",
      "Independent contribution ofExp48 to fMRI prediction without BERT: rho=0.183, p=0.0\n",
      "Independent contribution of Exp48 to fMRI prediction without VisualBERT: rho=0.259, p=0.0\n"
     ]
    }
   ],
   "source": [
    "exp48_wo_models = {}\n",
    "# Regressing mcse out of exp48\n",
    "\n",
    "rho, pval = regress_model(model_to_remove=mcse_rdm, target_model=exp_rdm2, brain_data=brain_data_2)\n",
    "print(f\"Independent contribution of Exp48 to fMRI prediction without MCSE: rho={round(rho, 3)}, p={round(pval,3)}\")\n",
    "exp48_wo_models['mcse'] = rho\n",
    "\n",
    "# Regressing simcse out of exp48\n",
    "rho, pval = regress_model(model_to_remove=simcse_rdm, target_model=exp_rdm2, brain_data=brain_data_2)\n",
    "print(f\"Independent contribution of Exp48 to fMRI prediction without SimCSE: rho={round(rho, 3)}, p={round(pval,3)}\")\n",
    "exp48_wo_models['simcse'] = rho\n",
    "\n",
    "# Regressing clap out of exp48\n",
    "rho, pval = regress_model(model_to_remove=clap_rdm, target_model=exp_rdm2, brain_data=brain_data_2)\n",
    "print(f\"Independent contribution of Exp48 to fMRI prediction without CLAP: rho={round(rho, 3)}, p={round(pval,3)}\")\n",
    "exp48_wo_models['clap'] = rho\n",
    "\n",
    "# Regressing bert out of exp48\n",
    "rho, pval = regress_model(model_to_remove=bert_rdm, target_model=exp_rdm2, brain_data=brain_data_2)\n",
    "print(f\"Independent contribution ofExp48 to fMRI prediction without BERT: rho={round(rho, 3)}, p={round(pval,3)}\")\n",
    "exp48_wo_models['bert'] = rho\n",
    "\n",
    "# Regressing visualbert out of exp48\n",
    "rho, pval = regress_model(model_to_remove=vbert_rdm, target_model=exp_rdm2, brain_data=brain_data_2)\n",
    "print(f\"Independent contribution of Exp48 to fMRI prediction without VisualBERT: rho={round(rho, 3)}, p={round(pval,3)}\")\n",
    "exp48_wo_models['visualbert'] = rho"
   ]
  },
  {
   "cell_type": "code",
   "execution_count": 8,
   "metadata": {},
   "outputs": [
    {
     "name": "stdout",
     "output_type": "stream",
     "text": [
      "Independent contribution of VisualBERT to fMRI prediction without BERT: rho=0.0, p=0.603\n",
      "Independent contribution of MCSE to fMRI prediction without SimCSE: rho=0.0, p=0.659\n"
     ]
    }
   ],
   "source": [
    "# VL models without LM counterpart\n",
    "\n",
    "# Regressing bert out of visualbert\n",
    "rho, pval = regress_model(model_to_remove=bert_rdm, target_model=vbert_rdm, brain_data=brain_data_2)\n",
    "print(f\"Independent contribution of VisualBERT to fMRI prediction without BERT: rho={round(rho, 2)}, p={round(pval,3)}\")\n",
    "\n",
    "\n",
    "# Regressing SimCSE out of MCSE\n",
    "rho, pval = regress_model(model_to_remove=simcse_rdm, target_model=mcse_rdm, brain_data=brain_data_2)\n",
    "print(f\"Independent contribution of MCSE to fMRI prediction without SimCSE: rho={round(rho, 2)}, p={round(pval,3)}\")"
   ]
  }
 ],
 "metadata": {
  "kernelspec": {
   "display_name": "exp-env",
   "language": "python",
   "name": "python3"
  },
  "language_info": {
   "codemirror_mode": {
    "name": "ipython",
    "version": 3
   },
   "file_extension": ".py",
   "mimetype": "text/x-python",
   "name": "python",
   "nbconvert_exporter": "python",
   "pygments_lexer": "ipython3",
   "version": "3.10.13"
  }
 },
 "nbformat": 4,
 "nbformat_minor": 2
}
